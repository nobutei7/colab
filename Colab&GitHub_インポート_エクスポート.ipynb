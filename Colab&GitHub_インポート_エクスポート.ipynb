{
  "nbformat": 4,
  "nbformat_minor": 0,
  "metadata": {
    "colab": {
      "name": "Colab&GitHub:インポート/エクスポート.ipynb",
      "provenance": [],
      "collapsed_sections": [],
      "toc_visible": true,
      "mount_file_id": "1SvTmgAQ_zanQAWuvBeALcotkYh9oBptv",
      "authorship_tag": "ABX9TyO4MSlmCoHg11VtKxQovcq0",
      "include_colab_link": true
    },
    "kernelspec": {
      "name": "python3",
      "display_name": "Python 3"
    },
    "accelerator": "GPU"
  },
  "cells": [
    {
      "cell_type": "markdown",
      "metadata": {
        "id": "view-in-github",
        "colab_type": "text"
      },
      "source": [
        "<a href=\"https://colab.research.google.com/github/nobutei7/colab/blob/main/Colab%26GitHub_%E3%82%A4%E3%83%B3%E3%83%9D%E3%83%BC%E3%83%88_%E3%82%A8%E3%82%AF%E3%82%B9%E3%83%9D%E3%83%BC%E3%83%88.ipynb\" target=\"_parent\"><img src=\"https://colab.research.google.com/assets/colab-badge.svg\" alt=\"Open In Colab\"/></a>"
      ]
    },
    {
      "cell_type": "markdown",
      "metadata": {
        "id": "DQT11V-FTDK9"
      },
      "source": [
        "# Colab と GitHub の関係\r\n",
        "\r\n",
        "[Google Colaboratory](https://colab.research.google.com/notebooks/welcome.ipynb?hl=ja)は、GitHubと完全に統合するように設計されており、GitHubからノートブックをロード（インポート）する。 および GitHubにノートブックを保存（エクスポート）する。 の両方を可能にします。\r\n",
        "\r\n"
      ]
    },
    {
      "cell_type": "markdown",
      "metadata": {
        "id": "k_XTRM9OuJp9"
      },
      "source": [
        "## 以下、Googleにログイン済みを対象\r\n",
        "\r\n",
        "ここでは、Googleにログイン済みであることを前提に解説していきます。  \r\n",
        "未ログインの場合の挙動については触れません。\r\n"
      ]
    },
    {
      "cell_type": "markdown",
      "metadata": {
        "id": "AzLgUrEIFK9C"
      },
      "source": [
        "# GoogleColabへGitHubをインポート（取得、取り込み）\r\n",
        "\r\n",
        "![](http://nobutei7.staba.jp/img/colab/GtoC.jpg)"
      ]
    },
    {
      "cell_type": "markdown",
      "metadata": {
        "id": "IEtrSuHYahoX"
      },
      "source": [
        "## GitHubで検索して見つける\r\n",
        "\r\n",
        "例\r\n",
        "1. ブラウザから[girhub.com Python demo](https://github.com/search?l=Jupyter+Notebook&o=desc&q=Python+demo&s=stars&type=Repositories) で検索\r\n",
        "2. Language（言語）一覧より「Jupiter Notebook」を選択\r\n",
        "3. 任意のrepository（レポジトリ）をクリック\r\n",
        "4. フォルダ内にある拡張子[ipynb]ファイルをクリック\r\n",
        "5. Notebookの内容を確認\r\n",
        "\r\n",
        "※ ipynbファイル ＝ Jupiter Notebook ＝ インポート単位  \r\n",
        "\r\n"
      ]
    },
    {
      "cell_type": "markdown",
      "metadata": {
        "id": "jPdNA8ANoQ45"
      },
      "source": [
        "\r\n",
        "![GitHub-1.jpg](http://nobutei7.staba.jp/img/colab/GitHub-1.jpg)\r\n"
      ]
    },
    {
      "cell_type": "markdown",
      "metadata": {
        "id": "5iFq0NEboMhR"
      },
      "source": [
        "## [colabサイト](https://colab.research.google.com/)から検索 ＆ コピー保存\r\n",
        "\r\n",
        "colabサイトのメニュー「ファイル >> ノートブックを開く」から検索ダイアログ（？）を開く\r\n",
        "\r\n",
        "\r\n",
        "\r\n",
        "\r\n"
      ]
    },
    {
      "cell_type": "markdown",
      "metadata": {
        "id": "1ufQjJ5-Eehg"
      },
      "source": [
        "![ノートブックを開く.png](http://nobutei7.staba.jp/img/colab/OpenNote.png)\r\n",
        "\r\n",
        "\r\n"
      ]
    },
    {
      "cell_type": "markdown",
      "metadata": {
        "id": "IjYcfZa1E4vY"
      },
      "source": [
        ""
      ]
    },
    {
      "cell_type": "markdown",
      "metadata": {
        "id": "JpUHYqzpCkaK"
      },
      "source": [
        "方法は2つ\r\n",
        "\r\n",
        "* GitHubからインポートしたい拡張子：「ipynb」ファイルのurlを指定\r\n"
      ]
    },
    {
      "cell_type": "markdown",
      "metadata": {
        "id": "DZV2QXgzCkuL"
      },
      "source": [
        "### 検索ダイアログ\r\n",
        "\r\n",
        "![SearchDlg.jpg](http://nobutei7.staba.jp/img/colab/SearchDlg.jpg)\r\n"
      ]
    },
    {
      "cell_type": "markdown",
      "metadata": {
        "id": "Sin7RU_UZOBf"
      },
      "source": [
        "## ダイレクトリンク\r\n",
        "\r\n",
        "Chrome拡張機能：[Open in Colab](https://chrome.google.com/webstore/detail/open-in-colab/iogfkhleblhcpcekbiedikdehleodpjo)\r\n",
        "\r\n",
        "https://github.com/gboeing/data-visualization/blob/master/useful_snippets.ipynb\r\n",
        "\r\n",
        "https：//colab.research.google.com/github/googlecolab/colabtools/blob/master/notebooks/colab-github-demo.ipynb"
      ]
    },
    {
      "cell_type": "code",
      "metadata": {
        "id": "rYW0Qp0XFIff"
      },
      "source": [
        ""
      ],
      "execution_count": null,
      "outputs": []
    },
    {
      "cell_type": "markdown",
      "metadata": {
        "id": "YxRk-XX_F0Zg"
      },
      "source": [
        "## 参照\r\n",
        "\r\n",
        "[colab-github-demo.ipynb](https://github.com/rafiuddinkhan/Yolo-Training-GoogleColab/tree/64e92f46e8050764126554439439f0136b456c10)\r\n",
        "\r\n",
        "結局、開いてはみたものの、上記Noteのリンクがあったので自動翻訳して**じぶんがわかるように**書き直しました。  \r\n",
        "<br><br>\r\n",
        "**[Colab GitHub インポート]**の検索結果ベスト10\r\n",
        "\r\n",
        "* <a data-ved=\"2ahUKEwjWtN6tgobuAhVHMd4KHS0GC2AQFjAAegQIBRAC\" href=\"https://qiita.\r\n",
        "com/Radley/items/b56a651797147c2592e6\" ping=\"/url?sa=t&amp;source=web&amp;rct=j&amp;url=https://qiita.com/Radley/items/b56a651797147c2592e6&amp;ved=2ahUKEwjWtN6tgobuAhVHMd4KHS0GC2AQFjAAegQIBRAC\">\r\n",
        "<p>GithubのコードをGoogle colabで実行する - Qiita</p>\r\n",
        "</a>\r\n",
        "* <a data-ved=\"2ahUKEwjWtN6tgobuAhVHMd4KHS0GC2AQFjABegQIARAC\" href=\"https://qiita.com/tamitarai/items/1c9da94fdfad997c3336\" ping=\"/url?sa=t&amp;source=web&amp;rct=j&amp;url=https://qiita.com/tamitarai/items/1c9da94fdfad997c3336&amp;ved=2ahUKEwjWtN6tgobuAhVHMd4KHS0GC2AQFjABegQIARAC\">\r\n",
        "<p>GitHubのリポジトリをGoogle Driveにcloneする方法メモ - Qiita</p>\r\n",
        "</a>\r\n",
        "* <a data-ved=\"2ahUKEwjWtN6tgobuAhVHMd4KHS0GC2AQFjACegQIBBAC\" href=\"https://www.it-swarm-ja.tech/ja/google-colaboratory/google-colabでgitを使用する方法/836601370/\" ping=\"/url?sa=t&amp;source=web&amp;rct=j&amp;url=https://www.it-swarm-ja.tech/ja/google-colaboratory/google-colab%25E3%2581%25A7git%25E3%2582%2592%25E4%25BD%25BF%25E7%2594%25A8%25E3%2581%2599%25E3%2582%258B%25E6%2596%25B9%25E6%25B3%2595/836601370/&amp;ved=2ahUKEwjWtN6tgobuAhVHMd4KHS0GC2AQFjACegQIBBAC\">\r\n",
        "<p>google-colaboratory — Google ColabでGitを使用する方法</p>\r\n",
        "</a>\r\n",
        "* <a data-ved=\"2ahUKEwjWtN6tgobuAhVHMd4KHS0GC2AQFjADegQIAxAC\" href=\"https://colab.research.google.com/github/UTokyo-IPP/utpython/blob/master/5/5-1.ipynb\" ping=\"/url?sa=t&amp;source=web&amp;rct=j&amp;url=https://colab.research.google.com/github/UTokyo-IPP/utpython/blob/master/5/5-1.ipynb&amp;ved=2ahUKEwjWtN6tgobuAhVHMd4KHS0GC2AQFjADegQIAxAC\">\r\n",
        "<p>Authorize with GitHub - Google Colab</p></a>\r\n",
        "* <a data-ved=\"2ahUKEwjWtN6tgobuAhVHMd4KHS0GC2AQFjAEegQIAhAC\" href=\"https://tkrel.com/12906\" ping=\"/url?sa=t&amp;source=web&amp;rct=j&amp;url=https://tkrel.com/12906&amp;ved=2ahUKEwjWtN6tgobuAhVHMd4KHS0GC2AQFjAEegQIAhAC\"><p>\r\n",
        "×\r\n",
        "Google Colaboratoryをより使いこなすためのテクニック ...</p>\r\n",
        "</a>\r\n",
        "* <a data-ved=\"2ahUKEwjWtN6tgobuAhVHMd4KHS0GC2AQFjAFegQIChAC\" href=\"https://docs.github.com/ja/free-pro-team@latest/github/importing-your-projects-to-github/importing-a-repository-with-github-importer\" ping=\"/url?sa=t&amp;source=web&amp;rct=j&amp;url=https://docs.github.com/ja/free-pro-team%40latest/github/importing-your-projects-to-github/importing-a-repository-with-github-importer&amp;ved=2ahUKEwjWtN6tgobuAhVHMd4KHS0GC2AQFjAFegQIChAC\">\r\n",
        "<p>GitHub Importer でリポジトリをインポートする - GitHub Docs</p>\r\n",
        "</a>\r\n",
        "* <a data-ved=\"2ahUKEwjWtN6tgobuAhVHMd4KHS0GC2AQFjAGegQICxAC\" href=\"https://sekailab.com/wp/2018/05/24/colaboratory-github-jupyter-notebook/\" ping=\"/url?sa=t&amp;source=web&amp;rct=j&amp;url=https://sekailab.com/wp/2018/05/24/colaboratory-github-jupyter-notebook/&amp;ved=2ahUKEwjWtN6tgobuAhVHMd4KHS0GC2AQFjAGegQICxAC\">\r\n",
        "<p>えるしってるか ColaboratoryではGithub上のjupyter notebook ...</p>\r\n",
        "</a>\r\n",
        "* <a data-ved=\"2ahUKEwjWtN6tgobuAhVHMd4KHS0GC2AQFjAHegQICBAC\" href=\"https://webbigdata.jp/ai/post-7232\" ping=\"/url?sa=t&amp;source=web&amp;rct=j&amp;url=https://webbigdata.jp/ai/post-7232&amp;ved=2ahUKEwjWtN6tgobuAhVHMd4KHS0GC2AQFjAHegQICBAC\">\r\n",
        "<p>Google Colabの使い勝手を向上させる10の秘訣 - WebBigData</p>\r\n",
        "</a>\r\n",
        "* <a data-ved=\"2ahUKEwjWtN6tgobuAhVHMd4KHS0GC2AQFjAIegQICRAC\" href=\"https://yaju3d.hatenablog.jp/entry/2018/06/30/122754\" ping=\"/url?sa=t&amp;source=web&amp;rct=j&amp;url=https://yaju3d.hatenablog.jp/entry/2018/06/30/122754&amp;ved=2ahUKEwjWtN6tgobuAhVHMd4KHS0GC2AQFjAIegQICRAC\">\r\n",
        "<p>Google ColaboratoryでGitHubのCSVデータをpandasに読み込む</p>\r\n",
        "</a>\r\n",
        "* <a data-ved=\"2ahUKEwjWtN6tgobuAhVHMd4KHS0GC2AQFjAJegQIBxAC\" href=\"https://v-crn.hatenablog.com/entry/2019/12/30/Google_Colaboratory_でカスタムモジュールをインポートする\" ping=\"/url?sa=t&amp;source=web&amp;rct=j&amp;url=https://v-crn.hatenablog.com/entry/2019/12/30/Google_Colaboratory_%25E3%2581%25A7%25E3%2582%25AB%25E3%2582%25B9%25E3%2582%25BF%25E3%2583%25A0%25E3%2583%25A2%25E3%2582%25B8%25E3%2583%25A5%25E3%2583%25BC%25E3%2583%25AB%25E3%2582%2592%25E3%2582%25A4%25E3%2583%25B3%25E3%2583%259D%25E3%2583%25BC%25E3%2583%2588%25E3%2581%2599%25E3%2582%258B&amp;ved=2ahUKEwjWtN6tgobuAhVHMd4KHS0GC2AQFjAJegQIBxAC\">\r\n",
        "<p>Google Colaboratory でカスタムモジュールをインポートする ...</p>\r\n",
        "</a>\r\n",
        "\r\n"
      ]
    },
    {
      "cell_type": "markdown",
      "metadata": {
        "id": "k_FqbOyPKSRc"
      },
      "source": [
        "# GoogleColabからGitHubへエクスポート（GitHub公開）\r\n",
        "\r\n",
        "![CtoG.jpg](http://nobutei7.staba.jp/img/colab/CtoG.jpg)"
      ]
    },
    {
      "cell_type": "markdown",
      "metadata": {
        "id": "VbN9aVFlMnjr"
      },
      "source": [
        "# GitHubより[Jupiter Notebook] をリンクする[Colab Badge]\r\n",
        "\r\n",
        "markup  \r\n",
        "[![Open In Colab](https://colab.research.google.com/assets/colab-badge.svg)](https://colab.research.google.com/github/googlecolab/colabtools/blob/master/notebooks/colab-github-demo.ipynb)  \r\n",
        "\r\n",
        "\r\n",
        "---\r\n",
        "\r\n",
        "HTML  \r\n",
        "<a href=\"https://colab.research.google.com/github/googlecolab/colabtools/blob/master/notebooks/colab-github-demo.ipynb\">\r\n",
        "  <img src=\"https://colab.research.google.com/assets/colab-badge.svg\" alt=\"Open In Colab\"/>\r\n",
        "</a>  \r\n",
        "\r\n",
        "\r\n"
      ]
    }
  ]
}