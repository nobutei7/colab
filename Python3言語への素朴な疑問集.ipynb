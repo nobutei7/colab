{
  "nbformat": 4,
  "nbformat_minor": 0,
  "metadata": {
    "colab": {
      "name": "Python3言語への素朴な疑問集.ipynb",
      "provenance": [],
      "collapsed_sections": [],
      "authorship_tag": "ABX9TyO+gTII+w9aYGl2+KVXnDiC",
      "include_colab_link": true
    },
    "kernelspec": {
      "name": "python3",
      "display_name": "Python 3"
    }
  },
  "cells": [
    {
      "cell_type": "markdown",
      "metadata": {
        "id": "view-in-github",
        "colab_type": "text"
      },
      "source": [
        "<a href=\"https://colab.research.google.com/github/nobutei7/colab/blob/main/Python3%E8%A8%80%E8%AA%9E%E3%81%B8%E3%81%AE%E7%B4%A0%E6%9C%B4%E3%81%AA%E7%96%91%E5%95%8F%E9%9B%86.ipynb\" target=\"_parent\"><img src=\"https://colab.research.google.com/assets/colab-badge.svg\" alt=\"Open In Colab\"/></a>"
      ]
    },
    {
      "cell_type": "markdown",
      "metadata": {
        "id": "hM8wZQOZD2zM"
      },
      "source": [
        "#Python3言語への素朴な疑問\r\n",
        "\r\n",
        "初心者が思う素朴な疑問です。\r\n",
        "\r\n",
        "非常にアバウトな質問なので、答えがあるような無いような・・・ほぼ、主観的な答えになるかと思います。\r\n",
        "\r\n",
        "どこから答えを見つけてきてもいいです。  \r\n",
        "でも、自分が指導者になって人に教えるつもりで、自信のある答えを書いてください。  \r\n",
        "時間がかかってもいいです。できるだけわかりやすく、伝わりやすくです。\r\n",
        "\r\n",
        "わからなければ、空白のままでいいです。"
      ]
    },
    {
      "cell_type": "markdown",
      "metadata": {
        "id": "6xHVbQFREIXK"
      },
      "source": [
        "##人気があるのはなぜ？\r\n",
        "\r\n"
      ]
    },
    {
      "cell_type": "markdown",
      "metadata": {
        "id": "U9NcRJj1EtED"
      },
      "source": [
        "##何ができるの？"
      ]
    },
    {
      "cell_type": "markdown",
      "metadata": {
        "id": "uP1rtNlmGKuT"
      },
      "source": [
        "##問題点はないの？"
      ]
    },
    {
      "cell_type": "markdown",
      "metadata": {
        "id": "s2WJNtKKEITv"
      },
      "source": [
        "##（Pythonで書いた）プログラムはどうやって動かすの？"
      ]
    },
    {
      "cell_type": "markdown",
      "metadata": {
        "id": "1tLGa7o0EIQW"
      },
      "source": [
        "##プログラム構造ってどうなっているの？"
      ]
    },
    {
      "cell_type": "markdown",
      "metadata": {
        "id": "16mPZv7tEIMc"
      },
      "source": [
        "##プログラムの約束ごとってあるの？"
      ]
    },
    {
      "cell_type": "markdown",
      "metadata": {
        "id": "Ur8gsg1kEIJB"
      },
      "source": [
        "##そもそも、プログラムって何？"
      ]
    },
    {
      "cell_type": "markdown",
      "metadata": {
        "id": "AN8wLF1IRoFH"
      },
      "source": [
        "##プログラミングのスタートラインって何？"
      ]
    },
    {
      "cell_type": "markdown",
      "metadata": {
        "id": "961lgn2FSGEm"
      },
      "source": [
        "##プログラミング習得のコツってある？"
      ]
    },
    {
      "cell_type": "markdown",
      "metadata": {
        "id": "Lp3sCgNIEIFG"
      },
      "source": [
        "##変数って何？"
      ]
    },
    {
      "cell_type": "markdown",
      "metadata": {
        "id": "azHCIztBEIBr"
      },
      "source": [
        "##型の種類って何があるの？"
      ]
    },
    {
      "cell_type": "markdown",
      "metadata": {
        "id": "mchTtRsTEH9z"
      },
      "source": [
        "##文字って何？"
      ]
    },
    {
      "cell_type": "markdown",
      "metadata": {
        "id": "MWOzhu9oEH6X"
      },
      "source": [
        "##どうして文字化けするの？"
      ]
    },
    {
      "cell_type": "markdown",
      "metadata": {
        "id": "jXLWracvEH2d"
      },
      "source": [
        "##どんな計算ができるの？"
      ]
    },
    {
      "cell_type": "markdown",
      "metadata": {
        "id": "dpQ1KNIfEHzD"
      },
      "source": [
        "##判断ってどうするの？"
      ]
    },
    {
      "cell_type": "markdown",
      "metadata": {
        "id": "OUWbq57uEHvE"
      },
      "source": [
        "##データ構造の種類って何があるの？"
      ]
    },
    {
      "cell_type": "markdown",
      "metadata": {
        "id": "z7nykhzEEHrU"
      },
      "source": [
        "##関数って何？"
      ]
    },
    {
      "cell_type": "markdown",
      "metadata": {
        "id": "7vDorsgKHgV5"
      },
      "source": [
        "##標準ライブラリって何？"
      ]
    },
    {
      "cell_type": "markdown",
      "metadata": {
        "id": "LdfQXWwsHogp"
      },
      "source": [
        "##標準と標準以外のライブラリの違いって何？"
      ]
    },
    {
      "cell_type": "markdown",
      "metadata": {
        "id": "dIFY7sjrEHkE"
      },
      "source": [
        "##オブジェクトって何？"
      ]
    },
    {
      "cell_type": "markdown",
      "metadata": {
        "id": "u1vd0WO4EHnk"
      },
      "source": [
        "##Classって何？"
      ]
    },
    {
      "cell_type": "markdown",
      "metadata": {
        "id": "NJQ-foZYEHcn"
      },
      "source": [
        "##デバッグする方法は？"
      ]
    },
    {
      "cell_type": "markdown",
      "metadata": {
        "id": "DOAicDJwEHSE"
      },
      "source": [
        "##Pythonの文法での問題点を教えて？"
      ]
    },
    {
      "cell_type": "markdown",
      "metadata": {
        "id": "zcgB9TM6LtYF"
      },
      "source": [
        "##プログラミングで論理的思考は身につきますか？"
      ]
    },
    {
      "cell_type": "markdown",
      "metadata": {
        "id": "j34mjqaBNN4s"
      },
      "source": [
        "##どうすれば、プログラムが作れるようになると思いますか？"
      ]
    },
    {
      "cell_type": "markdown",
      "metadata": {
        "id": "Hdb58F6REHgM"
      },
      "source": [
        "##テキストファイルを読んで、そのまま別の名前で書き出すプログラムを書いてください"
      ]
    },
    {
      "cell_type": "markdown",
      "metadata": {
        "id": "Z7YBFut7JyMv"
      },
      "source": [
        "---\r\n",
        "#お疲れ様です。\r\n",
        "\r\n",
        "\r\n",
        "\r\n",
        "(C) 2021 のぶ亭(nobutei7)"
      ]
    }
  ]
}