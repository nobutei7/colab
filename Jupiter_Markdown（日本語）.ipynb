{
  "nbformat": 4,
  "nbformat_minor": 0,
  "metadata": {
    "colab": {
      "name": "Jupiter Markdown.ipynb",
      "provenance": [],
      "collapsed_sections": [],
      "toc_visible": true,
      "authorship_tag": "ABX9TyPffT5dsgBt4MyYPfUCVUYx",
      "include_colab_link": true
    },
    "kernelspec": {
      "name": "python3",
      "display_name": "Python 3"
    },
    "accelerator": "GPU"
  },
  "cells": [
    {
      "cell_type": "markdown",
      "metadata": {
        "id": "view-in-github",
        "colab_type": "text"
      },
      "source": [
        "<a href=\"https://colab.research.google.com/github/nobutei7/colab/blob/main/Jupiter_Markdown%EF%BC%88%E6%97%A5%E6%9C%AC%E8%AA%9E%EF%BC%89.ipynb\" target=\"_parent\"><img src=\"https://colab.research.google.com/assets/colab-badge.svg\" alt=\"Open In Colab\"/></a>"
      ]
    },
    {
      "cell_type": "markdown",
      "metadata": {
        "id": "Fmjff70fR94i"
      },
      "source": [
        "# Markdown記法早見表\r\n",
        "\r\n",
        "* [**GitHub Flavored Markdown**](https://github.github.com/gfm/)\r\n",
        "* [Markdown: Syntax](https://daringfireball.net/projects/markdown/syntax)\r\n",
        "* [Markdown記法 チートシート](https://qiita.com/Qiita/items/c686397e4a0f4f11683d)\r\n",
        "* [Markdown再入門](https://qiita.com/t_wkm2/items/372fd1c851c4d221b1f3)\r\n",
        "\r\n",
        "* [Jupyterの拡張機能を全部調べてみた](https://qiita.com/simonritchie/items/88161c806197a0b84174)\r\n",
        "* [Jupyter 知っておくと少し便利なTIPS集](https://qiita.com/simonritchie/items/d7dccb798f0b9c8b1ec5)"
      ]
    },
    {
      "cell_type": "markdown",
      "metadata": {
        "id": "VVhzuvRPS0TH"
      },
      "source": [
        "##バックスラッシュエスケープ\r\n",
        "\r\n",
        "Markdownを使用すると、バックスラッシュエスケープを使用して、Markdownのフォーマット構文で特別な意味を持つリテラル文字を生成できます。\r\n",
        "\r\n",
        "たとえば、単語を（HTML<em>タグではなく）リテラルのアスタリスクで囲みたい場合は、次のようにアスタリスクの前に円記号を使用できます。\r\n",
        "\r\n",
        "\\*literal asterisks\\*  \r\n",
        "Markdownは、次の文字に円記号エスケープを提供します。\r\n",
        "\r\n",
        "|||\r\n",
        "|--|--|\r\n",
        "|\\\\   |backslash  |\r\n",
        "|\\`   |backtick  |\r\n",
        "|\\*   |asterisk  |\r\n",
        "|\\_   |underscore | \r\n",
        "|\\{\\} | curly braces  |\r\n",
        "|\\[\\] | square brackets|  \r\n",
        "|\\(\\) | parentheses  |\r\n",
        "|\\#   |hash mark  |\r\n",
        "|\\+   |plus sign  |\r\n",
        "|\\-   |minus sign (hyphen)  |\r\n",
        "|\\.   |dot  |\r\n",
        "|\\!   |exclamation mark  |"
      ]
    },
    {
      "cell_type": "markdown",
      "metadata": {
        "id": "zpmLiV75U_nO"
      },
      "source": [
        "`#ffce44`  \r\n",
        "`rgb(255,0,0)`  \r\n",
        "`rgba(0,255,0,0.4)`  \r\n",
        "`hsl(100, 10%, 10%)`  \r\n",
        "`hsla(100, 24%, 40%, 0.5)`  "
      ]
    },
    {
      "cell_type": "markdown",
      "metadata": {
        "id": "XqOoPPNgV6q2"
      },
      "source": [
        "##　空白\r\n",
        "\r\n",
        "a     a  \r\n",
        "a&nbsp;&nbsp;&nbsp;&nbsp;&nbsp;&nbsp;&nbsp;&nbsp;a    \r\n",
        "a&ensp;&ensp;&ensp;&ensp;&ensp;&ensp;&ensp;&ensp;a  \r\n",
        "a&emsp;&emsp;&emsp;&emsp;&emsp;&emsp;&emsp;&emsp;a  \r\n",
        "a&thinsp;&thinsp;&thinsp;&thinsp;&thinsp;&thinsp;a\r\n",
        "\r\n",
        "\\&nbsp;\r\n",
        "\r\n",
        "「\\&nbsp;」のnbspは「ノンブレークスペース（non-break-space）」の略語で、本来の意味は「改行をしないスペース」。\r\n",
        "\r\n",
        "『 \\&ensp; 』　半角スペースより少し広い空白  \r\n",
        "『 \\&emsp; 』　全角スペースとほぼ同じ大きさの空白  \r\n",
        "『 \\&thinsp; 』　&nbsp;の空白より小さい空白  \r\n",
        "\r\n",
        "\r\n"
      ]
    },
    {
      "cell_type": "markdown",
      "metadata": {
        "id": "ZLriVi7aXwXD"
      },
      "source": [
        "&nbsp; &amp; &copy; &AElig; &Dcaron;\r\n",
        "&frac34; &HilbertSpace; &DifferentialD;\r\n",
        "&ClockwiseContourIntegral; &ngE;"
      ]
    },
    {
      "cell_type": "markdown",
      "metadata": {
        "id": "Za-mJXuGYbnD"
      },
      "source": [
        "foo <font color='blue'>**bar**</font> foo\r\n",
        "\r\n",
        "This <span style=\"color:red\">word</span> is not black.\r\n",
        "\r\n",
        "<span style='color:green'> message/text </span>\r\n",
        "\r\n",
        "<font color='green'>text</font>\r\n",
        "\r\n",
        "$\\color{red}{\\text{ciao}}$\r\n",
        "\r\n",
        "$\\color{red}{\\text{赤色}}$\r\n",
        "\r\n",
        "<p style=\"font-family: Arial; font-size:1.4em;color:gold;\"> Golden </p>\r\n",
        "\r\n",
        "Text <span style=\"font-family: Arial; font-size:1.4em;color:gold;\"> Golden </p> Text\r\n",
        "\r\n",
        "<p style=\"color:red;\">ERROR: Setting focus didn't work for me when I tried from jupyter. However it worked well when I ran it from the terminal</p>\r\n",
        "\r\n"
      ]
    },
    {
      "cell_type": "markdown",
      "metadata": {
        "id": "9uLhN_1CbV5h"
      },
      "source": [
        "#RISE （Jupyter）の 見た目（色・フォント）を変更したい！\r\n",
        "\r\n",
        "https://qiita.com/kamuiroeru/items/f0cf7079f4058522fa80\r\n",
        "\r\n",
        "\r\n",
        "Jupyterで書いた文書をスライドにしたい。  \r\n",
        "というニーズに答えるツールの一つ RISE (https://github.com/damianavila/RISE) 。\r\n",
        "\r\n",
        "\r\n",
        "[Jupyter Notebookでプレゼンをするとっても便利な方法](http://qiita.com/cvusk/items/d425751ba663dc8c6517)"
      ]
    },
    {
      "cell_type": "markdown",
      "metadata": {
        "id": "UVcNlqUFaUHh"
      },
      "source": [
        ".ipynb\r\n",
        "%%HTML\r\n",
        "<link rel=\"stylesheet\" type=\"text/css\" href=\"custom.css\">"
      ]
    },
    {
      "cell_type": "markdown",
      "metadata": {
        "id": "UtfOsP60d7t3"
      },
      "source": [
        "#CSSファイルをGoogleColabノートブック（Python3）にインポートする方法"
      ]
    },
    {
      "cell_type": "markdown",
      "metadata": {
        "id": "etnVLHZXbU25"
      },
      "source": [
        "これはハッキーな答えですが、うまくいくようです。advanced_outputsColabの例では、ColabでMathJaxを有効にする方法への参照があります。これには、セルの作成ごとにトリガーされるハンドラーを追加する必要があります。このメソッドは、MathJax JavaScriptソースを含める代わりに、CSS要素を追加するように変更できます。\r\n",
        "\r\n",
        "> from IPython.display import Math, HTML, display\r\n",
        ">\r\n",
        ">def set_css_in_cell_output():\r\n",
        ">  display(HTML(\\\"\\\"\\\"<style>\r\n",
        ">ol ol {\r\n",
        ">  list-style-type: lower-roman;\r\n",
        ">}\r\n",
        ">>h1 {\r\n",
        ">  color: red;\r\n",
        ">}\r\n",
        "></style>\"\"\"))\r\n",
        "\r\n",
        "get_ipython().events.register('pre_run_cell', set_css_in_cell_output)  \r\n",
        "このセルを実行すると、ノートブックのすべての新しい出力セルにそのCSSが追加されます。私自身の経験!importantから、CSS階層は非常に複雑になる可能性があるため、ルールを使用しなければならないことがよくあります。"
      ]
    },
    {
      "cell_type": "markdown",
      "metadata": {
        "id": "RaNxjJfFeg5t"
      },
      "source": [
        "。。＞＜、、＜、、、,<,<</\\_\\/,,\r\n"
      ]
    },
    {
      "cell_type": "markdown",
      "metadata": {
        "id": "lCwActsljoya"
      },
      "source": [
        "#Markdown記法 サンプル集\r\n",
        "\r\n",
        "\r\n",
        "https://qiita.com/tbpgr/items/989c6badefff69377da7"
      ]
    },
    {
      "cell_type": "markdown",
      "metadata": {
        "id": "A9m42RQGjuA5"
      },
      "source": [
        "## 見出し\r\n",
        "1個から6個シャープで見出しを記述する。\r\n",
        "※シャープと見出し文字の間には半角スペースを1つ入れること\r\n",
        "\r\n",
        "記述例\r\n",
        "\r\n",
        "\\# 見出し1  \r\n",
        "\\## 見出し2  \r\n",
        "\\### 見出し3  \r\n",
        "\\#### 見出し4  \r\n",
        "\\##### 見出し5  \r\n",
        "\\###### 見出し6  \r\n",
        "\r\n",
        "---\r\n",
        "表示例\r\n",
        "\r\n",
        "# 見出し1  \r\n",
        "## 見出し2  \r\n",
        "### 見出し3  \r\n",
        "#### 見出し4  \r\n",
        "##### 見出し5  \r\n",
        "###### 見出し6  "
      ]
    },
    {
      "cell_type": "markdown",
      "metadata": {
        "id": "4TWCDVuRrOeh"
      },
      "source": [
        "##箇条書きリスト\r\n",
        "ハイフン、プラス、アスタリスクのいずれかで箇条書きリストを記述可能。\r\n",
        "\r\n",
        "※ハイフン、プラス、アスタリスクと箇条書きの項目の間には半角スペースを1つ入れること\r\n",
        "\r\n",
        "記述例  \r\n",
        "\\- リスト1  \r\n",
        "&emsp;\\- ネスト リスト1_1  \r\n",
        "&emsp;&emsp;\\- ネスト リスト1_1_1  \r\n",
        "&emsp;&emsp;\\- ネスト リスト1_1_2  \r\n",
        "&emsp;\\- ネスト リスト1_2  \r\n",
        "\\- リスト2  \r\n",
        "\\- リスト3  \r\n",
        "\r\n",
        "---\r\n",
        "表示例\r\n",
        "- リスト1\r\n",
        "    - ネスト リスト1_1\r\n",
        "        - ネスト リスト1_1_1\r\n",
        "        - ネスト リスト1_1_2\r\n",
        "    - ネスト リスト1_2\r\n",
        "- リスト2\r\n",
        "- リスト3\r\n"
      ]
    },
    {
      "cell_type": "markdown",
      "metadata": {
        "id": "ha4w6OEBrTtk"
      },
      "source": [
        "##番号付きリスト\r\n",
        "数値+半角ドットで番号付きリストを記述可能。\r\n",
        "番号の内容は何でもいい。実際に表示される際に適切な番号で表示される。\r\n",
        "そのため、一般的にはすべて 1. 内容 で記載すると変更に強く楽です。\r\n",
        "※数値+半角ドットと箇条書きの項目の間には半角スペースを1つ入れること\r\n",
        "\r\n",
        "記述例\r\n",
        "\r\n",
        "\\1. 番号付きリスト1  \r\n",
        "&emsp;\\1. 番号付きリスト1_1  \r\n",
        "&emsp;\\1. 番号付きリスト1_2  \r\n",
        "\\1. 番号付きリスト2  \r\n",
        "\\1. 番号付きリスト3  \r\n",
        "\r\n",
        "---\r\n",
        "表示例\r\n",
        "1. 番号付きリスト1\r\n",
        "    1. 番号付きリスト1_1\r\n",
        "    1. 番号付きリスト1_2\r\n",
        "1. 番号付きリスト2\r\n",
        "1. 番号付きリスト3"
      ]
    },
    {
      "cell_type": "markdown",
      "metadata": {
        "id": "yoHLXIkRrZBx"
      },
      "source": [
        "##引用\r\n",
        "\r\n",
        "\\> お世話になります。xxxです。  \r\n",
        "\\>   \r\n",
        "\\> ご連絡いただいた、バグの件ですが、仕様です。  \r\n",
        "\r\n",
        "---\r\n",
        "表示例\r\n",
        "> お世話になります。xxxです。\r\n",
        "> \r\n",
        "> ご連絡いただいた、バグの件ですが、仕様です。"
      ]
    },
    {
      "cell_type": "markdown",
      "metadata": {
        "id": "YXoRL2U8rb0x"
      },
      "source": [
        "##二重引用\r\n",
        "\r\n",
        "記述例  \r\n",
        "\\> お世話になります。xxxです。  \r\n",
        "\\>   \r\n",
        "\\> ご連絡いただいた、バグの件ですが、仕様です。  \r\n",
        "\\>> お世話になります。 yyyです。  \r\n",
        "\\>>   \r\n",
        "\\>> あの新機能バグってるっすね  \r\n",
        "\r\n",
        "---\r\n",
        "表示例\r\n",
        "> お世話になります。xxxです。\r\n",
        "> \r\n",
        "> ご連絡いただいた、バグの件ですが、仕様です。\r\n",
        ">> お世話になります。 yyyです。\r\n",
        ">> \r\n",
        ">> あの新機能バグってるっすね"
      ]
    },
    {
      "cell_type": "markdown",
      "metadata": {
        "id": "2Jgz9w7UrgHC"
      },
      "source": [
        "##pre記法(スペース4 or タブ)\r\n",
        "半角スペース4個もしくはタブで、コードブロックをpre表示できます\r\n",
        "\r\n",
        "記述例  \r\n",
        "\\# Tab  or Space  \r\n",
        "class Hoge  \r\n",
        "&emsp;&emsp;def hoge  \r\n",
        "&emsp;&emsp;&emsp;&emsp;print 'hoge'  \r\n",
        "&emsp;&emsp;end  \r\n",
        "end  \r\n",
        "\r\n",
        "---\r\n",
        "\r\n",
        "表示例\r\n",
        "    # Tab\r\n",
        "    class Hoge\r\n",
        "        def hoge\r\n",
        "            print 'hoge'\r\n",
        "        end\r\n",
        "    end\r\n",
        "\r\n",
        "---\r\n",
        "\r\n",
        "    # Space\r\n",
        "    class Hoge\r\n",
        "      def hoge\r\n",
        "        print 'hoge'\r\n",
        "      end\r\n",
        "    end\r\n",
        "\r\n"
      ]
    },
    {
      "cell_type": "markdown",
      "metadata": {
        "id": "HZTfUzFzrkEn"
      },
      "source": [
        "##code記法\r\n",
        "バッククォートで文字列を囲むことでコードの一部を表示可能です。\r\n",
        "\r\n",
        "記述例\r\n",
        "インストールコマンドは \\`gem install hoge\\` です\r\n",
        "\r\n",
        "---\r\n",
        "表示例\r\n",
        "インストールコマンドは `gem install hoge` です\r\n"
      ]
    },
    {
      "cell_type": "markdown",
      "metadata": {
        "id": "z9wUs8Zars1h"
      },
      "source": [
        "##強調：<em>\r\n",
        "\r\n",
        "アスタリスクもしくはアンダースコア1個で文字列を囲むことで強調します。見た目は斜体になります。\r\n",
        "\r\n",
        "記述例  \r\n",
        "normal \\*italic\\* normal  \r\n",
        "normal \\_italic\\_ normal  \r\n",
        "\r\n",
        "---\r\n",
        "表示例  \r\n",
        "normal *italic* normal  \r\n",
        "normal _italic_ normal  \r\n"
      ]
    },
    {
      "cell_type": "markdown",
      "metadata": {
        "id": "wHji9dpArwcR"
      },
      "source": [
        "##強調：\\<strong>\r\n",
        "\r\n",
        "アスタリスクもしくはアンダースコア2個で文字列を囲むことで強調にします。見た目は太字になります。\r\n",
        "\r\n",
        "記述例  \r\n",
        "normal \\*\\*bold\\*\\* normal  \r\n",
        "normal \\_\\_bold\\_\\_ normal  \r\n",
        "\r\n",
        "---\r\n",
        "表示例  \r\n",
        "normal **bold** normal  \r\n",
        "normal __bold__ normal  \r\n"
      ]
    },
    {
      "cell_type": "markdown",
      "metadata": {
        "id": "RZqjmtHMr4q5"
      },
      "source": [
        "##強調：\\<em\\> + \\<strong\\>\r\n",
        "アスタリスクもしくはアンダースコア3個で文字列を囲むことで \\<em> と \\<strong> による強調を両方適用します。\r\n",
        "見た目は斜体かつ太字になります。\r\n",
        "\r\n",
        "記述例  \r\n",
        "normal \\*\\*\\*bold\\*\\*\\* normal  \r\n",
        "normal \\_\\_\\_bold\\_\\_\\_ normal  \r\n",
        "\r\n",
        "表示例  \r\n",
        "normal ***bold*** normal  \r\n",
        "normal ___bold___ normal  "
      ]
    },
    {
      "cell_type": "markdown",
      "metadata": {
        "id": "0nHSqCjRsNcx"
      },
      "source": [
        "##水平線  \r\n",
        "アンダースコア、アスタリスク、ハイフンなどを3つ以上連続して記述することで水平線を表示します。\r\n",
        "※連続するハイフンなどの間にはスペースがあっても良い\r\n",
        "\r\n",
        "記述例  \r\n",
        "\r\n",
        "\\*\\*\\*\r\n",
        "\r\n",
        "\\_\\_\\_\r\n",
        "\r\n",
        "\\-\\-\\-\r\n",
        "\r\n",
        "\\*    \\*    \\*\r\n",
        "\r\n",
        "表示例  \r\n",
        "***  \r\n",
        "\r\n",
        "___  \r\n",
        "\r\n",
        "---  \r\n",
        "\r\n",
        "*    *    *  \r\n"
      ]
    },
    {
      "cell_type": "markdown",
      "metadata": {
        "id": "SlJm31ydsUo4"
      },
      "source": [
        "##リンク\r\n",
        "[表示文字](リンクURL)形式でリンクを記述できます\r\n",
        "\r\n",
        "\\[Google先生\\]\\(https://www.google.co.jp/\\)\r\n",
        "\r\n",
        "[Google先生](https://www.google.co.jp/)"
      ]
    },
    {
      "cell_type": "markdown",
      "metadata": {
        "id": "hPz1cPBysc2g"
      },
      "source": [
        "##定義参照リンク\r\n",
        "\r\n",
        "Markdownの文書の途中に長いリンクを記述したくない場合は、\r\n",
        "同じリンクの参照を何度も利用する場合は、リンク先への参照を定義することができます。\r\n",
        "\r\n",
        "\\[こっちからgoogle\\]\\[google\\]  \r\n",
        "\r\n",
        "その他の文章  \r\n",
        "\\[こっちからもgoogle\\]\\[google\\]  \r\n",
        "\r\n",
        "\r\n",
        "[こっちからgoogle][google]  \r\n",
        "\r\n",
        "その他の文章  \r\n",
        "[こっちからもgoogle][google]  "
      ]
    },
    {
      "cell_type": "markdown",
      "metadata": {
        "id": "TTNcwO4WwEOv"
      },
      "source": [
        "###ページ内リンク\r\n",
        "\r\n",
        "\r\n",
        "[Markdown記法 サンプル集へ](#markdown記法サンプル集)\r\n",
        "\r\n",
        "[ページ内リンク](#ページ内リンク)\r\n"
      ]
    },
    {
      "cell_type": "markdown",
      "metadata": {
        "id": "nsvvrSdGjv3R"
      },
      "source": [
        "##GitHub Flavored Markdown(GFM)\r\n",
        "\r\n",
        "GitHub Flavored Markdown(GFM)はGitHubの独自仕様を加えたMarkdown記法。以降、GFMと記載します。"
      ]
    },
    {
      "cell_type": "markdown",
      "metadata": {
        "id": "CuqWi5DEjvzx"
      },
      "source": [
        "##GFM:リンクテキスト簡易記法\r\n",
        "URLは記述するだけで自動的にリンクになります。\r\n",
        "\r\n",
        "記述例  \r\n",
        "https://www.google.co.jp/\r\n",
        "\r\n",
        "表示例\r\n",
        "https://www.google.co.jp/\r\n"
      ]
    },
    {
      "cell_type": "markdown",
      "metadata": {
        "id": "2PGD2wtNjvwK"
      },
      "source": [
        "##GFM:取り消し線\r\n",
        "チルダ2個で文字列を囲むことで取り消し線を利用できます。\r\n",
        "\r\n",
        "記述例  \r\n",
        "\\~\\~取り消し線\\~\\~\r\n",
        "\r\n",
        "表示例  \r\n",
        "~~取り消し線~~"
      ]
    },
    {
      "cell_type": "markdown",
      "metadata": {
        "id": "ZsC5g8KTjvsq"
      },
      "source": [
        "##GFM:pre記法(チルダ×3)\r\n",
        "\r\n",
        "記述例  \r\n",
        "　\\~\\~\\~  \r\n",
        "　class Hoge  \r\n",
        "　  def hoge  \r\n",
        "　    print 'hoge'  \r\n",
        "　  end  \r\n",
        "　end  \r\n",
        "　\\~\\~\\~   \r\n",
        "\r\n",
        "\r\n",
        "\r\n",
        "表示例  \r\n",
        "　~~~  \r\n",
        "　class Hoge  \r\n",
        "　  def hoge  \r\n",
        "　    print 'hoge'  \r\n",
        "　  end  \r\n",
        "　end  \r\n",
        "　~~~  "
      ]
    },
    {
      "cell_type": "markdown",
      "metadata": {
        "id": "AxWDKBlWjvpS"
      },
      "source": [
        "## GFM:pre記法(バッククォート×3)\r\n",
        "\r\n",
        "記述例  \r\n",
        "　```  \r\n",
        "　class Hoge  \r\n",
        "　  def hoge   \r\n",
        "　    print 'hoge'  \r\n",
        "　  end  \r\n",
        "　end  \r\n",
        "　```  \r\n",
        "\r\n",
        "表示例  \r\n",
        "　```  \r\n",
        "　class Hoge  \r\n",
        "　  def hoge   \r\n",
        "　    print 'hoge'  \r\n",
        "　  end  \r\n",
        "　end  "
      ]
    },
    {
      "cell_type": "markdown",
      "metadata": {
        "id": "Aw2BCSCfjvlp"
      },
      "source": [
        "##GFM:pre記法(シンタックスハイライト)\r\n",
        "チルダ、もしくはバッククォート3つの後ろに対象シンタックスの言語名を記述します。\r\n",
        "\r\n",
        "記述例  \r\n",
        "　~~~ruby  \r\n",
        "　class Hoge  \r\n",
        "　  def hoge  \r\n",
        "　    print 'hoge'  \r\n",
        "　  end  \r\n",
        "　end  \r\n",
        "　~~~  \r\n",
        "\r\n",
        "表示例  \r\n",
        "　~~~ruby  \r\n",
        "　class Hoge  \r\n",
        "　  def hoge  \r\n",
        "　    print 'hoge'  \r\n",
        "　  end  \r\n",
        "　end  \r\n",
        "　~~~  \r\n"
      ]
    },
    {
      "cell_type": "markdown",
      "metadata": {
        "id": "BdfqKiusjviB"
      },
      "source": [
        "##GFM:表組み\r\n",
        "\r\n",
        "記述例  \r\n",
        "\r\n",
        "|header1|header2|header3|  \r\n",
        "|:--|--:|:--:|  \r\n",
        "|align left|align right|align center|  \r\n",
        "|a|b|c|  \r\n",
        "\r\n"
      ]
    },
    {
      "cell_type": "markdown",
      "metadata": {
        "id": "wTdf9uxxjv7V"
      },
      "source": [
        "##GFM:ページ内リンク\r\n",
        "GitHubのMarkdownを利用すると、見出し記法を利用した際に\r\n",
        "アンカーが自動的に作成されます。\r\n",
        "そのアンカーを利用したページ内リンクを簡単に作成できます。\r\n",
        "\r\n",
        "## menu  \r\n",
        "* [to header1](#header1)\r\n",
        "* [to header2](#header2)\r\n",
        "\r\n",
        "<!-- some long code -->\r\n",
        "\r\n",
        "[return to menu](#menu)\r\n",
        "### header1\r\n",
        "### header2\r\n",
        "\r\n",
        "少し省略してますが、こんなかんじのHTMLになります。\r\n",
        "\r\n",
        "<h2><a name=\"user-content-menu\" href=\"#menu\">menu</a></h2>\r\n",
        "<a href=\"#header1\">to header1</a>\r\n",
        "<a href=\"#header2\">to header2</a>\r\n",
        "\r\n",
        "<!-- some long code -->\r\n",
        "\r\n",
        "<a href=\"#menu\">to menu</a>\r\n",
        "<h3><a name=\"user-content-header1\" href=\"#header1\">header1</a></h3>\r\n",
        "<h3><a name=\"user-content-header2\" href=\"#header2\">header2</a></h3>"
      ]
    },
    {
      "cell_type": "markdown",
      "metadata": {
        "id": "mqfKbLYCClFR"
      },
      "source": [
        "# Google Colabのメリット・デメリット\r\n",
        "\r\n",
        "https://www.codexa.net/how-to-use-google-colaboratory/"
      ]
    },
    {
      "cell_type": "markdown",
      "metadata": {
        "id": "3QU33FTdCrX5"
      },
      "source": [
        "Google Colabのメリット・デメリット\r\n",
        "\r\n",
        "Google Colabのメリットとデメリットについて簡潔にまとめてみました。\r\n",
        "\r\n",
        "* 環境構築がほぼ不要  \r\n",
        "> Google Colaboratoryはジュピター・ノートブックをクラウド上で動かしますが、PythonやNumpyなど、機械学習で必要なほぼ全ての環境がすでに構築されています。必要なのはブラウザのみで、すぐに機械学習を始めることが可能です。  \r\n",
        "\r\n",
        "* チーム内での共有が簡単  \r\n",
        "> Google Colabで書いたコード（ノートブック）は、グーグルドライブで保存されます。ですので、チーム内でノートブックの共有などが非常に簡単で、かつ権限管理などGoogle Drive上で行えるので安心でもあります。\r\n",
        "\r\n",
        "* GPUを含めて無料で利用が可能  \r\n",
        "> そうなんです、Google Colabがこれだけ話題になったのも、なんとGPU（Tesla K80 GPU）が無料で使えるためです。機械学習では大規模なデータを、高負荷がかかる計算をすることが多々あります。自身のパソコンで処理を行う場合、訓練に12時間かかることも多々ありますが、Google ColabのGPU環境を使うことで、時間短縮が可能です。・・・しかも無料で使えるんです。\r\n",
        "\r\n",
        "上記の3つのメリットを考えると、Google Colabを使わない理由がないように感じますが、逆にデメリットはあるのか考えてみました。\r\n",
        "\r\n",
        "* データの読み込みなどで特殊な処理を覚える必要がある  \r\n",
        "> 今までローカルで使っていたデータセットなどを読み込む際に、一つ処理を加えてあげる必要があります。Google DriveのAPIを利用したり、PyDriveなどのラッパーを利用してデータを読み込む必要があります。難しい処理ではありませんので、一度覚えてしまえば特に問題にはなりません。\r\n",
        "\r\n",
        "* Jupyter Notebookと使い勝手が多少異なる  \r\n",
        "> これもデメリットという訳ではありませんが、すでにJupyter Notebookに慣れ親しんだ方だと…少し最初は戸惑うことがあるかと思います。ショートカットキーの設定を変更したり、セルの追加や削除などの基本的な操作方法に慣れる必要があります。\r\n",
        "デメリットを考えたのですが、正直、あまりデメリットと思える部分がありません！上記で書いたデメリットも「強いて挙げるのであれば」程度で、全く支障にはなりません。"
      ]
    },
    {
      "cell_type": "markdown",
      "metadata": {
        "id": "PWvP-yq9FgiB"
      },
      "source": [
        "実際にGPUが走っているかどうか、下記のコードを実行することで確認が可能です。"
      ]
    },
    {
      "cell_type": "code",
      "metadata": {
        "colab": {
          "base_uri": "https://localhost:8080/"
        },
        "id": "RRiEdiBaFg4g",
        "outputId": "535ce3aa-3b8f-4f1a-c5e3-b072c6153a45"
      },
      "source": [
        "# TensorFlow経由でデバイス設定の確認が可能です\r\n",
        "from tensorflow.python.client import device_lib\r\n",
        "device_lib.list_local_devices()"
      ],
      "execution_count": null,
      "outputs": [
        {
          "output_type": "execute_result",
          "data": {
            "text/plain": [
              "[name: \"/device:CPU:0\"\n",
              " device_type: \"CPU\"\n",
              " memory_limit: 268435456\n",
              " locality {\n",
              " }\n",
              " incarnation: 12967470143187180893, name: \"/device:GPU:0\"\n",
              " device_type: \"GPU\"\n",
              " memory_limit: 14638920512\n",
              " locality {\n",
              "   bus_id: 1\n",
              "   links {\n",
              "   }\n",
              " }\n",
              " incarnation: 15680291608231163837\n",
              " physical_device_desc: \"device: 0, name: Tesla T4, pci bus id: 0000:00:04.0, compute capability: 7.5\"]"
            ]
          },
          "metadata": {
            "tags": []
          },
          "execution_count": 1
        }
      ]
    }
  ]
}